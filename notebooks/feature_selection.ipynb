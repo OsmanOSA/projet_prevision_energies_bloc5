{
 "cells": [
  {
   "cell_type": "code",
   "execution_count": 1,
   "id": "98c2b660",
   "metadata": {},
   "outputs": [],
   "source": [
    "import pandas as pd\n",
    "import numpy as np\n",
    "import matplotlib.pyplot as plt\n"
   ]
  },
  {
   "cell_type": "code",
   "execution_count": 2,
   "id": "ac3eb8dc",
   "metadata": {},
   "outputs": [
    {
     "data": {
      "text/html": [
       "<div>\n",
       "<style scoped>\n",
       "    .dataframe tbody tr th:only-of-type {\n",
       "        vertical-align: middle;\n",
       "    }\n",
       "\n",
       "    .dataframe tbody tr th {\n",
       "        vertical-align: top;\n",
       "    }\n",
       "\n",
       "    .dataframe thead th {\n",
       "        text-align: right;\n",
       "    }\n",
       "</style>\n",
       "<table border=\"1\" class=\"dataframe\">\n",
       "  <thead>\n",
       "    <tr style=\"text-align: right;\">\n",
       "      <th></th>\n",
       "      <th>timestamp</th>\n",
       "      <th>BIOMASS</th>\n",
       "      <th>NUCLEAR</th>\n",
       "      <th>SOLAR</th>\n",
       "      <th>WIND_ONSHORE</th>\n",
       "      <th>consommation_totale</th>\n",
       "      <th>production_totale</th>\n",
       "      <th>taux_couverture_pourcent</th>\n",
       "      <th>balancing_energetique</th>\n",
       "      <th>temperature</th>\n",
       "    </tr>\n",
       "  </thead>\n",
       "  <tbody>\n",
       "    <tr>\n",
       "      <th>0</th>\n",
       "      <td>2017-12-31 23:00:00</td>\n",
       "      <td>295.0</td>\n",
       "      <td>37183.0</td>\n",
       "      <td>0.0</td>\n",
       "      <td>9808.0</td>\n",
       "      <td>58882.0</td>\n",
       "      <td>47286.0</td>\n",
       "      <td>80.306375</td>\n",
       "      <td>-11596.0</td>\n",
       "      <td>9.3</td>\n",
       "    </tr>\n",
       "    <tr>\n",
       "      <th>1</th>\n",
       "      <td>2018-01-01 00:00:00</td>\n",
       "      <td>293.0</td>\n",
       "      <td>34793.0</td>\n",
       "      <td>0.0</td>\n",
       "      <td>9707.0</td>\n",
       "      <td>55957.0</td>\n",
       "      <td>44793.0</td>\n",
       "      <td>80.048966</td>\n",
       "      <td>-11164.0</td>\n",
       "      <td>9.0</td>\n",
       "    </tr>\n",
       "    <tr>\n",
       "      <th>2</th>\n",
       "      <td>2018-01-01 01:00:00</td>\n",
       "      <td>293.0</td>\n",
       "      <td>34263.0</td>\n",
       "      <td>0.0</td>\n",
       "      <td>9502.0</td>\n",
       "      <td>55429.0</td>\n",
       "      <td>44058.0</td>\n",
       "      <td>79.485468</td>\n",
       "      <td>-11371.0</td>\n",
       "      <td>8.9</td>\n",
       "    </tr>\n",
       "    <tr>\n",
       "      <th>3</th>\n",
       "      <td>2018-01-01 02:00:00</td>\n",
       "      <td>294.0</td>\n",
       "      <td>34081.0</td>\n",
       "      <td>0.0</td>\n",
       "      <td>9288.0</td>\n",
       "      <td>52743.0</td>\n",
       "      <td>43663.0</td>\n",
       "      <td>82.784445</td>\n",
       "      <td>-9080.0</td>\n",
       "      <td>8.6</td>\n",
       "    </tr>\n",
       "    <tr>\n",
       "      <th>4</th>\n",
       "      <td>2018-01-01 03:00:00</td>\n",
       "      <td>294.0</td>\n",
       "      <td>34103.0</td>\n",
       "      <td>0.0</td>\n",
       "      <td>9005.0</td>\n",
       "      <td>50226.0</td>\n",
       "      <td>43402.0</td>\n",
       "      <td>86.413411</td>\n",
       "      <td>-6824.0</td>\n",
       "      <td>8.1</td>\n",
       "    </tr>\n",
       "  </tbody>\n",
       "</table>\n",
       "</div>"
      ],
      "text/plain": [
       "            timestamp  BIOMASS  NUCLEAR  SOLAR  WIND_ONSHORE  \\\n",
       "0 2017-12-31 23:00:00    295.0  37183.0    0.0        9808.0   \n",
       "1 2018-01-01 00:00:00    293.0  34793.0    0.0        9707.0   \n",
       "2 2018-01-01 01:00:00    293.0  34263.0    0.0        9502.0   \n",
       "3 2018-01-01 02:00:00    294.0  34081.0    0.0        9288.0   \n",
       "4 2018-01-01 03:00:00    294.0  34103.0    0.0        9005.0   \n",
       "\n",
       "   consommation_totale  production_totale  taux_couverture_pourcent  \\\n",
       "0              58882.0            47286.0                 80.306375   \n",
       "1              55957.0            44793.0                 80.048966   \n",
       "2              55429.0            44058.0                 79.485468   \n",
       "3              52743.0            43663.0                 82.784445   \n",
       "4              50226.0            43402.0                 86.413411   \n",
       "\n",
       "   balancing_energetique  temperature  \n",
       "0               -11596.0          9.3  \n",
       "1               -11164.0          9.0  \n",
       "2               -11371.0          8.9  \n",
       "3                -9080.0          8.6  \n",
       "4                -6824.0          8.1  "
      ]
     },
     "execution_count": 2,
     "metadata": {},
     "output_type": "execute_result"
    }
   ],
   "source": [
    "data = pd.read_csv(r\"D:\\Nouveau dossier\\TitreRNCP_Bloc1\\projet_prevision_energies_bloc5\\datasets\\data.csv\", \n",
    "                   parse_dates=['timestamp'])\n",
    "data.head()"
   ]
  },
  {
   "cell_type": "code",
   "execution_count": 3,
   "id": "740c8c5c",
   "metadata": {},
   "outputs": [
    {
     "data": {
      "text/plain": [
       "timestamp                   0\n",
       "BIOMASS                     0\n",
       "NUCLEAR                     0\n",
       "SOLAR                       0\n",
       "WIND_ONSHORE                0\n",
       "consommation_totale         0\n",
       "production_totale           0\n",
       "taux_couverture_pourcent    0\n",
       "balancing_energetique       0\n",
       "temperature                 2\n",
       "dtype: int64"
      ]
     },
     "execution_count": 3,
     "metadata": {},
     "output_type": "execute_result"
    }
   ],
   "source": [
    "data.isnull().sum()"
   ]
  },
  {
   "cell_type": "code",
   "execution_count": 4,
   "id": "932a4070",
   "metadata": {},
   "outputs": [
    {
     "name": "stderr",
     "output_type": "stream",
     "text": [
      "C:\\Users\\saida\\AppData\\Local\\Temp\\ipykernel_35444\\3130371668.py:1: FutureWarning: A value is trying to be set on a copy of a DataFrame or Series through chained assignment using an inplace method.\n",
      "The behavior will change in pandas 3.0. This inplace method will never work because the intermediate object on which we are setting values always behaves as a copy.\n",
      "\n",
      "For example, when doing 'df[col].method(value, inplace=True)', try using 'df.method({col: value}, inplace=True)' or df[col] = df[col].method(value) instead, to perform the operation inplace on the original object.\n",
      "\n",
      "\n",
      "  data[\"temperature\"].fillna(value=data[\"temperature\"].interpolate(method=\"linear\"), inplace=True)\n"
     ]
    },
    {
     "data": {
      "text/plain": [
       "timestamp                   0\n",
       "BIOMASS                     0\n",
       "NUCLEAR                     0\n",
       "SOLAR                       0\n",
       "WIND_ONSHORE                0\n",
       "consommation_totale         0\n",
       "production_totale           0\n",
       "taux_couverture_pourcent    0\n",
       "balancing_energetique       0\n",
       "temperature                 0\n",
       "dtype: int64"
      ]
     },
     "execution_count": 4,
     "metadata": {},
     "output_type": "execute_result"
    }
   ],
   "source": [
    "data[\"temperature\"].fillna(value=data[\"temperature\"].interpolate(method=\"linear\"), inplace=True)\n",
    "data.isnull().sum()"
   ]
  },
  {
   "cell_type": "code",
   "execution_count": null,
   "id": "d12f3a87",
   "metadata": {},
   "outputs": [],
   "source": []
  }
 ],
 "metadata": {
  "kernelspec": {
   "display_name": ".venv",
   "language": "python",
   "name": "python3"
  },
  "language_info": {
   "codemirror_mode": {
    "name": "ipython",
    "version": 3
   },
   "file_extension": ".py",
   "mimetype": "text/x-python",
   "name": "python",
   "nbconvert_exporter": "python",
   "pygments_lexer": "ipython3",
   "version": "3.12.7"
  }
 },
 "nbformat": 4,
 "nbformat_minor": 5
}
